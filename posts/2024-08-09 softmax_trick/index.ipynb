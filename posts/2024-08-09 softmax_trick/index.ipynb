{
 "cells": [
  {
   "cell_type": "markdown",
   "metadata": {},
   "source": [
    "---\n",
    "title: \"The Gumbel softmax trick\"\n",
    "author: Stefan Heyder\n",
    "date: '2024-08-09'\n",
    "slug: gumbel_softmax\n",
    "categories: []\n",
    "tags: []\n",
    "draft: true\n",
    "---\n"
   ]
  },
  {
   "cell_type": "markdown",
   "metadata": {},
   "source": [
    "::: {.content-hidden}\n",
    "\n",
    "- why? want categorical sampling in NNs, but training is difficult\n",
    "- why? want to sample from categorical distribution, but that is expensive if there are many categories\n",
    "\n",
    "## Notes\n",
    "\n",
    "\n",
    "### [Jang2017Categorical](https://arxiv.org/pdf/1611.01144)\n",
    "- Gumbel Max trick actually due to Gumbel 1954 (?)\n",
    "- combine Gumbel w/ softmax to be differentiable\n",
    "- issues with non-differentiablility \n",
    "- reparametrization trick: \n",
    "- depends on method of simulation, for inverse CDF trick should suffice that $\\theta \\mapsto F ^{-1}_{\\theta}(u)$ is differentiable (?), technically need _deterministic_ mapping $u \\mapsto z_\\theta$ \n",
    ":::"
   ]
  }
 ],
 "metadata": {
  "kernelspec": {
   "display_name": "research",
   "language": "python",
   "name": "python3"
  },
  "language_info": {
   "codemirror_mode": {
    "name": "ipython",
    "version": 3
   },
   "file_extension": ".py",
   "mimetype": "text/x-python",
   "name": "python",
   "nbconvert_exporter": "python",
   "pygments_lexer": "ipython3",
   "version": "undefined.undefined.undefined"
  }
 },
 "nbformat": 4,
 "nbformat_minor": 2
}
