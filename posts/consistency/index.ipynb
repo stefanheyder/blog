{
 "cells": [
  {
   "cell_type": "markdown",
   "metadata": {},
   "source": [
    "---\n",
    "title: \"Consistency\"\n",
    "author: Stefan Heyder\n",
    "date: '2024-07-07'\n",
    "slug: consistency\n",
    "categories: []\n",
    "tags: []\n",
    "draft: true\n",
    "bibliography: references.bib\n",
    "---\n"
   ]
  },
  {
   "cell_type": "markdown",
   "metadata": {},
   "source": [
    "After discussing the reason for asymptotics in [asymptotics], I want to elaborate a bit more on both consistency and central limit theorems for estimators. In particular, I want to demonstrate proof techniques for showing that an estimator is consistent. Depending on the estimator at hand, these may apply or not. \n",
    "\n",
    "# Notation and setting\n",
    "Let's start with the setup for this post. Consider a parametric family of probability measures $(\\mathbf P_{\\theta})_{\\theta\\in\\Theta}$ on $\\mathbf R^n$ where the set of parameters is $k$-dimensional $\\Theta \\subseteq \\mathbf R^k$. We'll require that the family is identifiable, otherwise consistent estimators cannot exist. Let us call the true parameter $\\theta_0\\in\\mathbf R^{k}$. \n",
    "\n",
    "We start with the approach found in [@Lehmann1998Theory] to prove the consistency of maximum likelihood estimators (MLE). Actually, with a few additional assumptions (that are fulfilled for MLEs), we can extend their argument to so-called Z-estimators. Z-estimators are estimators that are defined as zeros of so-called estimating equations. These are functions $f_{N}: (\\mathbf R^{n})^{N} \\times \\mathbf R^{k} \\to \\mathbf R^{l}$ of the observed data $X_1, \\dots, X_N \\stackrel{\\text{i.i.d}}{\\sim} \\mathbf P_{\\theta_{0}}$ and parameters $\\theta \\in \\Theta$. If $\\hat \\theta_N$ is an estimator of $\\theta$ defined by [Sometimes we can relax the right-hand side to be only $o_{\\mathbf P}(1)$, but that will not be necessary.]{.aside}\n",
    "\n",
    "$$\n",
    "f_N \\left(X_{1}, \\dots, X_{N}, \\hat\\theta_{N} \\right) = 0.\n",
    "$$"
   ]
  }
 ],
 "metadata": {
  "language_info": {
   "name": "python"
  }
 },
 "nbformat": 4,
 "nbformat_minor": 2
}
